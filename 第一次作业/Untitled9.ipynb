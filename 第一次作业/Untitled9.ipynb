{
 "cells": [
  {
   "cell_type": "code",
   "execution_count": 5,
   "metadata": {},
   "outputs": [],
   "source": [
    "import numpy as np\n",
    "\n",
    "matrixA = []\n",
    "for i in open(\"matrixA.txt\"):\n",
    "    row = [int(x) for x in i.split(\",\")]\n",
    "    matrixA.append(row)\n",
    "\n",
    "matrixB = []\n",
    "for j in open(\"matrixB.txt\"):\n",
    "    row = [int(x) for x in j.split(\",\")]\n",
    "    matrixB.append(row)\n",
    "\n",
    "matrixA = np.array(matrixA)\n",
    "matrixB = np.array(matrixB)\n",
    "\n",
    "ans = matrixA.dot(matrixB)\n",
    "ans.sort(axis=1)\n",
    "\n",
    "np.savetxt(\"Q1_ans.txt\", ans, fmt=\"%d\", delimiter=\"\\r\\n\")"
   ]
  },
  {
   "cell_type": "code",
   "execution_count": 1,
   "metadata": {},
   "outputs": [],
   "source": [
    "from PIL import Image\n",
    "\n",
    "lena = Image.open(\"lena.png\")\n",
    "lena_modified = Image.open(\"lena_modified.png\")\n",
    "\n",
    "w, h = lena.size\n",
    "for j in range(h):\n",
    "    for i in range(w):\n",
    "        if lena.getpixel((i, j)) == lena_modified.getpixel((i, j)):\n",
    "            lena_modified.putpixel((i, j), 255)\n",
    "\n",
    "lena_modified.show()\n",
    "lena_modified.save(\"ans_two.png\")"
   ]
  }
 ],
 "metadata": {
  "kernelspec": {
   "display_name": "Python 3",
   "language": "python",
   "name": "python3"
  },
  "language_info": {
   "codemirror_mode": {
    "name": "ipython",
    "version": 3
   },
   "file_extension": ".py",
   "mimetype": "text/x-python",
   "name": "python",
   "nbconvert_exporter": "python",
   "pygments_lexer": "ipython3",
   "version": "3.6.5"
  }
 },
 "nbformat": 4,
 "nbformat_minor": 2
}
